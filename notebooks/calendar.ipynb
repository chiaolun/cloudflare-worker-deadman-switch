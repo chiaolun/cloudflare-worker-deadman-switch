{
 "cells": [
  {
   "cell_type": "code",
   "execution_count": 52,
   "id": "8aeed1c5-1c19-4d3a-8146-26465a963402",
   "metadata": {},
   "outputs": [],
   "source": [
    "import json\n",
    "import pandas as pd\n",
    "import exchange_calendars as xcals"
   ]
  },
  {
   "cell_type": "code",
   "execution_count": 2,
   "id": "f19da8ab-aef4-4cfc-bd39-26fc6f1ca4fe",
   "metadata": {},
   "outputs": [],
   "source": [
    "xnys = xcals.get_calendar(\"XNYS\") "
   ]
  },
  {
   "cell_type": "code",
   "execution_count": 20,
   "id": "30bf9e50-4bcf-45c0-a596-75dc15b2822b",
   "metadata": {},
   "outputs": [],
   "source": [
    "is_max_len = xnys.schedule.eval(\"close - open\").pipe(lambda xs: xs == xs.max())"
   ]
  },
  {
   "cell_type": "code",
   "execution_count": 30,
   "id": "c7c30a63-73b0-4ced-91a5-621f5f1cd854",
   "metadata": {},
   "outputs": [
    {
     "data": {
      "text/plain": [
       "DatetimeIndex(['2005-11-25', '2006-07-03', '2006-11-24', '2007-07-03',\n",
       "               '2007-11-23', '2007-12-24', '2008-07-03', '2008-11-28',\n",
       "               '2008-12-24', '2009-11-27', '2009-12-24', '2010-11-26',\n",
       "               '2011-11-25', '2012-07-03', '2012-11-23', '2012-12-24',\n",
       "               '2013-07-03', '2013-11-29', '2013-12-24', '2014-07-03',\n",
       "               '2014-11-28', '2014-12-24', '2015-11-27', '2015-12-24',\n",
       "               '2016-11-25', '2017-07-03', '2017-11-24', '2018-07-03',\n",
       "               '2018-11-23', '2018-12-24', '2019-07-03', '2019-11-29',\n",
       "               '2019-12-24', '2020-11-27', '2020-12-24', '2021-11-26',\n",
       "               '2022-11-25', '2023-07-03', '2023-11-24', '2024-07-03',\n",
       "               '2024-11-29', '2024-12-24', '2025-07-03', '2025-11-28',\n",
       "               '2025-12-24'],\n",
       "              dtype='datetime64[ns]', freq=None)"
      ]
     },
     "execution_count": 30,
     "metadata": {},
     "output_type": "execute_result"
    }
   ],
   "source": [
    "xnys.schedule[~is_max_len].index"
   ]
  },
  {
   "cell_type": "code",
   "execution_count": 54,
   "id": "25d109b9-3c6e-4954-889d-311d461ca0d5",
   "metadata": {},
   "outputs": [],
   "source": [
    "with open(\"trading_days.json\", \"w\") as f:\n",
    "    json.dump(xnys.schedule[is_max_len].index.to_series().astype(str).to_list(), f)"
   ]
  }
 ],
 "metadata": {
  "kernelspec": {
   "display_name": "Python 3 (ipykernel)",
   "language": "python",
   "name": "python3"
  },
  "language_info": {
   "codemirror_mode": {
    "name": "ipython",
    "version": 3
   },
   "file_extension": ".py",
   "mimetype": "text/x-python",
   "name": "python",
   "nbconvert_exporter": "python",
   "pygments_lexer": "ipython3",
   "version": "3.12.8"
  }
 },
 "nbformat": 4,
 "nbformat_minor": 5
}
